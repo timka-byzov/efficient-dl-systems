{
 "cells": [
  {
   "cell_type": "markdown",
   "metadata": {},
   "source": [
    "## Pytorch - like"
   ]
  },
  {
   "cell_type": "markdown",
   "metadata": {},
   "source": [
    "Посмотрим на выхлоп профилировщика за одну эпоху после прогона модели"
   ]
  },
  {
   "cell_type": "markdown",
   "metadata": {},
   "source": [
    "![image](imgs/perfetto_stat.png)"
   ]
  },
  {
   "cell_type": "markdown",
   "metadata": {},
   "source": [
    "Из difference можно заметить сильный перекос по времени обработки у линейных слоев, что логично, это наиболее тяжелые куски сети."
   ]
  },
  {
   "cell_type": "markdown",
   "metadata": {},
   "source": [
    "Во время работы с кодом были выявлены слеюдующие вещи, требующие оптимизации:\n",
    "\n",
    "1. Использование дефолтной библотеки для чтения файлов, учше испльзовать оптимизированные аналоги.\n",
    "\n",
    "2. Картиночыне аугментации применяются каждый раз при подгрузке изображения, это сильно увеличивает нагрузку на систему.\n",
    "\n",
    "3. (связан с 2) Подгрузка датасета выполняется в 1 поток. Это место, которое легко можно ускорить."
   ]
  },
  {
   "cell_type": "markdown",
   "metadata": {},
   "source": [
    "# Nsys"
   ]
  },
  {
   "cell_type": "markdown",
   "metadata": {},
   "source": [
    "Можем видеть, что файл открывется сверх долго"
   ]
  },
  {
   "cell_type": "markdown",
   "metadata": {},
   "source": [
    "![image](imgs/nsys_fopen.png)"
   ]
  },
  {
   "cell_type": "markdown",
   "metadata": {},
   "source": [
    "P.S. все, тут я уже помер ("
   ]
  }
 ],
 "metadata": {
  "language_info": {
   "name": "python"
  }
 },
 "nbformat": 4,
 "nbformat_minor": 2
}
