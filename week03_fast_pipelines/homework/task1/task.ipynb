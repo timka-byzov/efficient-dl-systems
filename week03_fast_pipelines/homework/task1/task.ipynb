{
 "cells": [
  {
   "cell_type": "code",
   "execution_count": 1,
   "metadata": {},
   "outputs": [
    {
     "name": "stdout",
     "output_type": "stream",
     "text": [
      "/usr/bin/zsh: /opt/miniconda3/lib/libtinfo.so.6: no version information available (required by /usr/bin/zsh)\n",
      "dataset.py\t  __MACOSX     task.ipynb  train_masks\tunet.py\n",
      "download_data.sh  __pycache__  train\t   train.py\n"
     ]
    }
   ],
   "source": [
    "!ls"
   ]
  },
  {
   "cell_type": "code",
   "execution_count": 1,
   "metadata": {},
   "outputs": [
    {
     "name": "stderr",
     "output_type": "stream",
     "text": [
      "/home/byzovti/.conda/envs/effdl2/lib/python3.10/site-packages/tqdm/auto.py:22: TqdmWarning: IProgress not found. Please update jupyter and ipywidgets. See https://ipywidgets.readthedocs.io/en/stable/user_install.html\n",
      "  from .autonotebook import tqdm as notebook_tqdm\n"
     ]
    }
   ],
   "source": [
    "from train import train"
   ]
  },
  {
   "cell_type": "code",
   "execution_count": 2,
   "metadata": {},
   "outputs": [
    {
     "name": "stderr",
     "output_type": "stream",
     "text": [
      "Loss: 0.6141 Accuracy: 93.6949: 100%|██████████| 40/40 [00:40<00:00,  1.01s/it]\n",
      "Loss: 0.5987 Accuracy: 96.9854: 100%|██████████| 40/40 [00:40<00:00,  1.02s/it]\n",
      "Loss: 0.5894 Accuracy: 98.0818: 100%|██████████| 40/40 [00:40<00:00,  1.01s/it]\n",
      "Loss: 0.5884 Accuracy: 98.574: 100%|██████████| 40/40 [00:40<00:00,  1.02s/it] \n",
      "Loss: 0.5858 Accuracy: 98.8209: 100%|██████████| 40/40 [00:41<00:00,  1.04s/it]\n"
     ]
    }
   ],
   "source": [
    "train(use_dynamic_scaling=False)"
   ]
  },
  {
   "cell_type": "code",
   "execution_count": 4,
   "metadata": {},
   "outputs": [
    {
     "name": "stderr",
     "output_type": "stream",
     "text": [
      "Loss: 0.6937 Accuracy: 84.0111: 100%|██████████| 40/40 [00:39<00:00,  1.00it/s]\n",
      "Loss: 0.641 Accuracy: 91.4281: 100%|██████████| 40/40 [00:40<00:00,  1.01s/it] \n",
      "Loss: 0.7045 Accuracy: 80.64: 100%|██████████| 40/40 [00:40<00:00,  1.01s/it]  \n",
      "Loss: 0.6806 Accuracy: 86.241: 100%|██████████| 40/40 [00:40<00:00,  1.02s/it] \n",
      "Loss: 0.6529 Accuracy: 89.8521: 100%|██████████| 40/40 [00:42<00:00,  1.06s/it]\n"
     ]
    }
   ],
   "source": [
    "train(use_dynamic_scaling=True)"
   ]
  }
 ],
 "metadata": {
  "kernelspec": {
   "display_name": "effdl2",
   "language": "python",
   "name": "python3"
  },
  "language_info": {
   "codemirror_mode": {
    "name": "ipython",
    "version": 3
   },
   "file_extension": ".py",
   "mimetype": "text/x-python",
   "name": "python",
   "nbconvert_exporter": "python",
   "pygments_lexer": "ipython3",
   "version": "3.10.16"
  }
 },
 "nbformat": 4,
 "nbformat_minor": 2
}
